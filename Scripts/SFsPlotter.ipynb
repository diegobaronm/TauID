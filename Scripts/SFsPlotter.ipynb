{
 "cells": [
  {
   "cell_type": "code",
   "execution_count": 2,
   "metadata": {},
   "outputs": [],
   "source": [
    "import ROOT as r\n",
    "from ROOT import gStyle\n",
    "import numpy as np\n",
    "import ctypes\n",
    "import os\n",
    "\n",
    "\n",
    "def biner(edges,bin_widths,histogram):\n",
    "    if (len(edges)+1!=len(bin_widths)):\n",
    "        print(\"Check edges and bin widths array sizes!\")\n",
    "        return\n",
    "    \n",
    "    bins=[]\n",
    "    first_bin = histogram.GetXaxis().GetBinLowEdge(1)\n",
    "    print(first_bin)\n",
    "    last_bin = histogram.GetXaxis().GetBinUpEdge(histogram.GetNbinsX())\n",
    "    print(last_bin)\n",
    "    for i in range(0,len(edges)):\n",
    "        n_spaces = int((edges[i] - first_bin)/bin_widths[i])\n",
    "        bins = np.concatenate((bins,np.linspace(first_bin,edges[i],n_spaces,endpoint=False)))\n",
    "        first_bin = edges[i]\n",
    "        if edges[i]==edges[-1]:\n",
    "            n_spaces = int((last_bin - edges[i])/bin_widths[i+1])\n",
    "            bins = np.concatenate((bins,np.linspace(edges[i],last_bin,n_spaces,endpoint=False)))\n",
    "            bins = np.concatenate((bins,[last_bin]))\n",
    "    return bins"
   ]
  },
  {
   "cell_type": "code",
   "execution_count": 29,
   "metadata": {},
   "outputs": [
    {
     "name": "stdout",
     "output_type": "stream",
     "text": [
      "370949.0\n",
      "364168.99005126953\n",
      "364168.99005126953\n",
      "364168.99005126953\n",
      "364168.99005126953\n",
      "364090.6000366211\n",
      "364090.6000366211\n",
      "363552.56311035156\n",
      "363552.56311035156\n",
      "363475.7680358887\n",
      "0.0\n",
      "200.0\n"
     ]
    },
    {
     "name": "stderr",
     "output_type": "stream",
     "text": [
      "Warning in <TCanvas::Constructor>: Deleting canvas with same name: Canvas\n",
      "Info in <TCanvas::Print>: pdf file SFs.pdf has been created\n"
     ]
    }
   ],
   "source": [
    "signal_sample_zll = \"Signal_Sherpa.root\"\n",
    "samples_zll = {\"Data\":[\"Data.root\"],\"Signal\":[signal_sample_zll],\"VV\":[\"VV.root\"],\"W\":[\"Wjets.root\"],\"Z\":[\"Ztautau_PoPy.root\"],\"ttbar\":[\"ttbar.root\"],\"SingleTop\":[\"singletop.root\"],}\n",
    "path_zll = \"../MuMu/Plots/V26.Binned/\"\n",
    "histogram_zll = \"tau_pt_topo_cuts\"\n",
    "binning=[[77,97],[77,20,103]]\n",
    "\n",
    "File = r.TFile.Open(path_zll+samples_zll[\"Data\"][0])\n",
    "C_factor_zll = File.Get(histogram_zll)\n",
    "C_factor_zll.SetDirectory(0)\n",
    "File.Close()\n",
    "\n",
    "for s in samples_zll:\n",
    "    if s!=\"Data\" and s!=\"Signal\":\n",
    "        File = r.TFile.Open(path_zll+samples_zll[s][0])\n",
    "        hist = File.Get(histogram_zll)\n",
    "        hist.SetDirectory(0)\n",
    "\n",
    "        print(C_factor_zll.Integral())\n",
    "        C_factor_zll.Add(hist,-1)\n",
    "        print(C_factor_zll.Integral())\n",
    "        File.Close()\n",
    "\n",
    "rebining=biner(binning[0],binning[1],C_factor_zll)\n",
    "nb=len(rebining)-1\n",
    "C_factor_zll=C_factor_zll.Rebin(nb,histogram_zll,rebining)\n",
    "\n",
    "File = r.TFile.Open(path_zll+samples_zll[\"Signal\"][0])\n",
    "hist = File.Get(histogram_zll)\n",
    "hist=hist.Rebin(nb,histogram_zll,rebining)\n",
    "\n",
    "C_factor_zll.Divide(hist)\n",
    "\n",
    "File.Close()\n",
    "\n",
    "canvas = r.TCanvas(\"Canvas\")\n",
    "canvas.cd()\n",
    "\n",
    "pad1 = r.TPad (\" pad1 \",\" pad1 \" ,0.05 ,0.05 ,1 ,1)\n",
    "pad1.SetTopMargin(0.03)\n",
    "pad1.SetRightMargin(0.03)\n",
    "pad1.SetLeftMargin(0.08)\n",
    "pad1.SetBottomMargin(0.0)\n",
    "pad1.Draw ()\n",
    "pad1.cd ()\n",
    "\n",
    "C_factor_zll.Draw(\"pe same\")\n",
    "\n",
    "\n",
    "canvas.Print(\"SFs.pdf\")"
   ]
  },
  {
   "cell_type": "code",
   "execution_count": 19,
   "metadata": {},
   "outputs": [
    {
     "data": {
      "text/plain": [
       "0.9616692662239075"
      ]
     },
     "execution_count": 19,
     "metadata": {},
     "output_type": "execute_result"
    }
   ],
   "source": [
    "C_factor_zll.GetBinContent(200)"
   ]
  },
  {
   "cell_type": "code",
   "execution_count": null,
   "metadata": {},
   "outputs": [],
   "source": []
  }
 ],
 "metadata": {
  "interpreter": {
   "hash": "916dbcbb3f70747c44a77c7bcd40155683ae19c65e1c03b4aa3499c5328201f1"
  },
  "kernelspec": {
   "display_name": "Python 3.10.4 64-bit",
   "language": "python",
   "name": "python3"
  },
  "language_info": {
   "codemirror_mode": {
    "name": "ipython",
    "version": 3
   },
   "file_extension": ".py",
   "mimetype": "text/x-python",
   "name": "python",
   "nbconvert_exporter": "python",
   "pygments_lexer": "ipython3",
   "version": "3.10.4"
  },
  "orig_nbformat": 4
 },
 "nbformat": 4,
 "nbformat_minor": 2
}
