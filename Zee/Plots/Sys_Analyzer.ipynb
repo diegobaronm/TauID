{
 "cells": [
  {
   "cell_type": "code",
   "execution_count": 1,
   "metadata": {},
   "outputs": [
    {
     "name": "stdout",
     "output_type": "stream",
     "text": [
      "Welcome to JupyROOT 6.22/00\n"
     ]
    }
   ],
   "source": [
    "import os\n",
    "import ROOT as r\n",
    "dict={}\n",
    "trees=[\"NOMINAL\"]\n",
    "with open(\"../../sys_jet_trees.txt\",\"r\") as file:\n",
    "    line=file.readline()\n",
    "    while line:\n",
    "        trees.append(line.rstrip('\\n'))\n",
    "        line=file.readline()\n",
    "\n",
    "samples=[\"Signal_Sherpa\",\"Signal_PoPy\",\"VV\"]"
   ]
  },
  {
   "cell_type": "code",
   "execution_count": 3,
   "metadata": {},
   "outputs": [
    {
     "name": "stdout",
     "output_type": "stream",
     "text": [
      "Welcome to JupyROOT 6.22/00\n"
     ]
    }
   ],
   "source": [
    "\n",
    "\n",
    "# FILLING DICTIONARY WITH SYS-RELATED TREES \n",
    "\n",
    "### the dictionary will have the following structure \"systematic_name\":[yield]\n",
    "\n",
    "for sam in samples:\n",
    "    for sys in trees[1:]:\n",
    "        file=r.TFile.Open(sam+sys+\".root\")\n",
    "        sys_yield=file.Get(\"ratio_lpt_tpt_cuts_ptl\")\n",
    "        dict[sam+sys]=sys_yield.Integral(0,50)\n",
    "        file.Close()\n",
    "\n"
   ]
  },
  {
   "cell_type": "code",
   "execution_count": 2,
   "metadata": {},
   "outputs": [],
   "source": [
    "#NOW ADDING THE WEIGHT-BASED SYSTEMATICS        \n",
    "histograms=[]\n",
    "for sys in trees[:1]:\n",
    "    file=r.TFile.Open(\"Signal_Sherpa\"+sys+\".root\")\n",
    "    histos=file.GetListOfKeys()\n",
    "    for i in histos:\n",
    "        name=i.GetName()\n",
    "        if (\"cuts\" in name) and (\"ptl\" in name) and (\"yield\" in name):\n",
    "            histograms.append(i.GetName()[len(\"yield_sys_cuts_ptl_\"):])\n",
    "\n",
    "\n",
    "for sam in samples:\n",
    "    for sys in trees[:1]:\n",
    "        file=r.TFile.Open(sam+sys+\".root\")\n",
    "        for h in histograms:\n",
    "            sys_yield=file.Get(\"yield_sys_cuts_ptl_\"+h)\n",
    "            dict[sam+sys+h]=sys_yield.Integral(0,50)\n",
    "        sys_yield=file.Get(\"ratio_lpt_tpt_cuts_ptl\")\n",
    "        dict[sam+sys+\"nominal\"]=sys_yield.Integral(0,50)\n",
    "        file.Close()"
   ]
  },
  {
   "cell_type": "code",
   "execution_count": 3,
   "metadata": {},
   "outputs": [],
   "source": [
    "#The structure of the dictionary is... \"name_of_sys\":[Sherpa,PoPy,VV]\n",
    "final_dict={}\n",
    "for i in histograms+trees[1:]:\n",
    "    final_dict[i]=[0,0,0]\n",
    "    for j in dict:\n",
    "        if (i in j) and (\"Sherpa\" in j):\n",
    "            final_dict[i][0]=dict[j]\n",
    "        if (i in j) and (\"PoPy\" in j):\n",
    "            final_dict[i][1]=dict[j]\n",
    "        if (i in j) and (\"VV\" in j):\n",
    "            final_dict[i][2]=dict[j]\n",
    "            \n",
    "#TAKING DOWN AND UP SYSTEMATICS TO THE BOTTOM AND THE TOP OF THE DICTIONARY RESPECTIVELY\n",
    "up={}\n",
    "down={}\n",
    "\n",
    "a_keys=[i for i in final_dict]\n",
    "\n",
    "for i in a_keys:\n",
    "    if \"1down\" in i:\n",
    "        down.update({i:final_dict[i]})\n",
    "        final_dict.pop(i)\n",
    "\n",
    "final_dict.update(down)\n"
   ]
  },
  {
   "cell_type": "code",
   "execution_count": 4,
   "metadata": {},
   "outputs": [],
   "source": [
    "# EXPORTING THE RESULTS TO A CSV FILE\n",
    "import pandas as pd\n",
    "df=pd.DataFrame.from_dict(final_dict, orient='index',\n",
    "                       columns=[\"Sherpa\",\"PoPy\",\"VV\"])\n",
    "\n",
    "\n",
    "df.to_csv('Uncertainties.csv')\n",
    "\n"
   ]
  },
  {
   "cell_type": "code",
   "execution_count": 6,
   "metadata": {},
   "outputs": [
    {
     "data": {
      "text/plain": [
       "[321031.81799316406, 335466.77111816406, 6791.089002609253]"
      ]
     },
     "execution_count": 6,
     "metadata": {},
     "output_type": "execute_result"
    }
   ],
   "source": [
    "final_dict[\"jet_JET_JvtEfficiency_1down_central_jets_global_effSF_JVT\"]"
   ]
  },
  {
   "cell_type": "code",
   "execution_count": 17,
   "metadata": {},
   "outputs": [],
   "source": []
  },
  {
   "cell_type": "code",
   "execution_count": null,
   "metadata": {},
   "outputs": [],
   "source": []
  }
 ],
 "metadata": {
  "interpreter": {
   "hash": "916dbcbb3f70747c44a77c7bcd40155683ae19c65e1c03b4aa3499c5328201f1"
  },
  "kernelspec": {
   "display_name": "Python 3",
   "language": "python",
   "name": "python3"
  },
  "language_info": {
   "codemirror_mode": {
    "name": "ipython",
    "version": 3
   },
   "file_extension": ".py",
   "mimetype": "text/x-python",
   "name": "python",
   "nbconvert_exporter": "python",
   "pygments_lexer": "ipython3",
   "version": "3.8.10"
  }
 },
 "nbformat": 4,
 "nbformat_minor": 4
}
