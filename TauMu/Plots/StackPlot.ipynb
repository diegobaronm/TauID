{
 "cells": [
  {
   "cell_type": "code",
   "execution_count": 3,
   "metadata": {},
   "outputs": [
    {
     "data": {
      "text/plain": [
       "0"
      ]
     },
     "execution_count": 3,
     "metadata": {},
     "output_type": "execute_result"
    },
    {
     "name": "stdout",
     "output_type": "stream",
     "text": [
      "hadd Target file: BG.root\n",
      "hadd compression setting for all output: 1\n",
      "hadd Source file 1: VV.root\n",
      "hadd Source file 2: singletop.root\n",
      "hadd Source file 3: Wjets.root\n",
      "hadd Source file 4: ttbar.root\n",
      "hadd Source file 5: Zmumu_MG.root\n",
      "hadd Target file: MC.root\n",
      "hadd compression setting for all output: 1\n",
      "hadd Source file 1: BG.root\n",
      "hadd Source file 2: Signal_Sherpa.root\n",
      "hadd Target path: MC.root:/\n"
     ]
    },
    {
     "name": "stderr",
     "output_type": "stream",
     "text": [
      "Error in <TFile::TFile>: file Zmumu_MG.root does not exist\n",
      "Error in <TFileMerger::AddFile>: cannot open file Zmumu_MG.root\n",
      "hadd exiting due to error in Zmumu_MG.root\n"
     ]
    }
   ],
   "source": [
    "import os\n",
    "import ROOT\n",
    "##### SELECTING GENERATOR FOR SIGNAL SAMPLE\n",
    "signal_sample=\"Signal_Sherpa.root\"\n",
    "average_mode = [False,\"MGRW\",\"SherpaRW\"]    \n",
    "is_CR=False\n",
    "post_fit = False\n",
    "if not post_fit:\n",
    "    type_of_mc = signal_sample.strip('.root').split('_')[1]\n",
    "else :\n",
    "    vbf_scale = 1.3\n",
    "    qcd_scale = 0.95\n",
    "    type_of_mc = signal_sample.strip('.root').split('_')[1]+'_AfterFit'\n",
    "\n",
    "#### CREATING THE CORRESPONDING MC.ROOT FILE EVERYTIME YOU CHANGE THE SIGNAL SAMPLE\n",
    "\n",
    "os.system(\"rm BG.root MC.root\")\n",
    "os.system('hadd BG.root VV.root singletop.root Wjets.root ttbar.root Zjet.root')\n",
    "os.system(\"hadd MC.root \"+\"BG.root \"+signal_sample)"
   ]
  },
  {
   "cell_type": "code",
   "execution_count": 2,
   "metadata": {},
   "outputs": [],
   "source": [
    "histos_no_rebin={\"lep_phi_topo\":[],\n",
    "                 \"lep_phi_cuts_tpt\":[],\n",
    "                 \"tau_phi_topo\":[],\n",
    "                 \"tau_phi_cuts_tpt\":[],\n",
    "                 \"tau_nprongs_topo\":[],\n",
    "                 \"tau_nprongs_cuts_tpt\":[],\n",
    "                 \"jet_n_topo\":[],\n",
    "                 \"jet_n_topo_dphi_btag_iso_rnn_ptmu_omega_mreco_tpt\":[],\n",
    "                \"omega_topo\":[],\n",
    "                 \"omega_topo_dphi_btag_iso_rnn_ptmu_mreco_tpt\":[],\n",
    "                 \"delta_phi\":[],\n",
    "                 \"delta_phi_second_stage\":[],\n",
    "                 \"delta_phi_cuts_tpt\":[],\n",
    "                \"delta_phi_cuts_butphi\":[],\n",
    "                 \"ratio_ptjet_zpt_cuts\":[],\n",
    "                 \"ratio_lpt_tpt_cuts_tpt\":[],\n",
    "                \"n_isolation_tracks\":[],\n",
    "                \"n_core_tracks\":[],\n",
    "                \"n_isolation_tracks_cuts\":[],\n",
    "                \"n_core_tracks_cuts\":[],\n",
    "                \"n_tracks\":[],\n",
    "                \"n_tracks_cuts\":[],}\n",
    "histos_rebin={\"rnn_score_1prong_topo\":[0.8,0.1,0.1],\n",
    "            \"rnn_score_1prong_topo_dphi_btag_iso_ptmu_omega_mreco_tpt\":[0.8,0.1,0.1],\n",
    "            \"rnn_score_3prong_topo\":[0.8,0.1,0.1],\n",
    "            \"rnn_score_3prong_topo_dphi_btag_iso_ptmu_omega_mreco_tpt\":[0.8,0.1,0.1],\n",
    "            \"lep_pt0_topo_dphi_btag_iso_rnn_omega_mreco_tpt\":[120,5,10],\n",
    "              \"lep_pt0_topo_dphi_btag_iso_rnn_ptmu_omega_mreco_tpt\":[120,5,10],\n",
    "              \"tau_pt_topo_dphi_btag_iso_rnn_ptmu_omega_mreco_inside\":[120,5,10],\n",
    "             \"tau_pt_topo_dphi_btag_iso_rnn_ptmu_omega_mreco_outside\":[120,5,10],\n",
    "              \"tau_pt_topo_dphi_btag_iso_rnn_ptmu_omega_mreco_tpt_inside\":[120,5,10],\n",
    "             \"tau_pt_topo_dphi_btag_iso_rnn_ptmu_omega_mreco_tpt_outside\":[120,5,10],\n",
    "              \"sum_pt_pt_topo\":[120,5,10],\n",
    "              \"sum_pt_pt_topo_dphi_btag_iso_rnn_ptmu_omega_mreco\":[120,5,10],\n",
    "              \"MET_topo\":[120,5,10],\n",
    "              \"MET_topo_dphi_btag_iso_rnn_ptmu_omega_mreco_tpt\":[120,5,10],\n",
    "             \"reco_mass_topo\":[120,5,10],\n",
    "              \"h_reco_mass_topo_dphi_btag_iso_rnn_ptmu_omega_mreco_tpt\":[120,5,10],\n",
    "              \"h_reco_mass_topo_dphi_btag_iso_rnn_ptmu_omega_tpt\":[120,5,10],\n",
    "             \"reco_mass_met_outside_topo\":[120,5,10],\n",
    "              \"reco_mass_met_outside_topo_dphi_btag_iso_rnn_ptmu_omega_mreco_tpt\":[120,5,10],\n",
    "             \"reco_mass_met_outside_topo_dphi_btag_iso_rnn_ptmu_omega_tpt\":[120,5,10],\n",
    "              \"Z_pt_inside_topo\":[180,10,20],\n",
    "              \"Z_pt_cuts_inside\":[180,10,20],\n",
    "              \"Z_pt_cuts_tpt_inside\":[180,10,20],\n",
    "             \"Z_pt_outside_topo\":[180,10,20],\n",
    "              \"Z_pt_cuts_outside\":[180,10,20],\n",
    "              \"Z_pt_cuts_tpt_outside\":[180,10,20],\n",
    "              \"transverse_lepton_mass_topo\":[120,5,10],\n",
    "              \"transverse_lepton_mass_topo_dphi_btag_iso_rnn_ptmu_omega_mreco\":[120,5,10],\n",
    "             \"transverse_lepton_mass_topo_dphi_btag_iso_rnn_ptmu_omega_mreco_tpt\":[120,5,10],\n",
    "             }\n",
    "histos={}\n",
    "histos.update(histos_no_rebin)\n",
    "histos.update(histos_rebin)"
   ]
  },
  {
   "cell_type": "code",
   "execution_count": 7,
   "metadata": {},
   "outputs": [
    {
     "name": "stdout",
     "output_type": "stream",
     "text": [
      "n_tracks_cuts\n",
      "Z_pt_cuts_inside\n",
      "0.0\n",
      "400.0\n",
      "[  0.  10.  20.  30.  40.  50.  60.  70.  80.  90. 100. 110. 120. 130.\n",
      " 140. 150. 160. 170. 180. 200. 220. 240. 260. 280. 300. 320. 340. 360.\n",
      " 380. 400.]\n"
     ]
    }
   ],
   "source": [
    "histos_no_rebin={\n",
    "                \"n_tracks_cuts\":[],}\n",
    "histos_rebin={\n",
    "              \"Z_pt_cuts_inside\":[[180],[10,20],10]\n",
    "             }\n",
    "histos={}\n",
    "histos.update(histos_no_rebin)\n",
    "histos.update(histos_rebin)\n",
    "\n",
    "Data = {\"Data\":[\"Data.root\",ROOT.kBlack,0]}   \n",
    "Signal = {\"Signal\":[signal_sample,ROOT.kAzure+8,0]} \n",
    "Background = {\"Wjets\":[\"Wjets.root\",ROOT.kGreen,0],\"ttbar\":[\"ttbar.root\",ROOT.kYellow,0],\"VV\":[\"VV.root\",ROOT.kBlue,0],\"SingleTop\":[\"singletop.root\",ROOT.kCyan,0],\n",
    "              \"Z+jets\":[\"Zjet.root\",ROOT.kRed,0]}\n",
    "\n",
    "\n",
    "%run \"../../Scripts/Plotter.ipynb\"\n",
    "\n",
    "Plot(Data,Signal,Background,histos,type_of_mc,average=[False,\"MGRW\",\"SherpaRW\"],after_fit=False,final_state=\"Z#rightarrow #mu#tau\")"
   ]
  },
  {
   "cell_type": "code",
   "execution_count": null,
   "metadata": {},
   "outputs": [],
   "source": []
  }
 ],
 "metadata": {
  "kernelspec": {
   "display_name": "Python 3",
   "language": "python",
   "name": "python3"
  },
  "language_info": {
   "codemirror_mode": {
    "name": "ipython",
    "version": 3
   },
   "file_extension": ".py",
   "mimetype": "text/x-python",
   "name": "python",
   "nbconvert_exporter": "python",
   "pygments_lexer": "ipython3",
   "version": "3.8.10"
  }
 },
 "nbformat": 4,
 "nbformat_minor": 4
}
