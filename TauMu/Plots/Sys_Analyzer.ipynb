{
 "cells": [
  {
   "cell_type": "code",
   "execution_count": 3,
   "metadata": {},
   "outputs": [],
   "source": [
    "import os\n",
    "trees=[\"NOMINAL\"]\n",
    "with open(\"../../sys_trees.txt\",\"r\") as file:\n",
    "    line=file.readline()\n",
    "    while line:\n",
    "        trees.append(line.rstrip('\\n'))\n",
    "        line=file.readline()\n",
    "\n",
    "samples=[\"Signal_Sherpa\",\"Signal_PoPy\",\"Zmumu\",\"VV\"]"
   ]
  },
  {
   "cell_type": "code",
   "execution_count": 2,
   "metadata": {},
   "outputs": [
    {
     "name": "stdout",
     "output_type": "stream",
     "text": [
      "Welcome to JupyROOT 6.22/00\n"
     ]
    },
    {
     "ename": "ReferenceError",
     "evalue": "attempt to access a null-pointer",
     "output_type": "error",
     "traceback": [
      "\u001b[0;31m---------------------------------------------------------------------------\u001b[0m",
      "\u001b[0;31mReferenceError\u001b[0m                            Traceback (most recent call last)",
      "\u001b[0;32m<ipython-input-2-9337c1242ab7>\u001b[0m in \u001b[0;36m<module>\u001b[0;34m\u001b[0m\n\u001b[1;32m      9\u001b[0m     \u001b[0;32mfor\u001b[0m \u001b[0msys\u001b[0m \u001b[0;32min\u001b[0m \u001b[0mtrees\u001b[0m\u001b[0;34m[\u001b[0m\u001b[0;36m1\u001b[0m\u001b[0;34m:\u001b[0m\u001b[0;34m]\u001b[0m\u001b[0;34m:\u001b[0m\u001b[0;34m\u001b[0m\u001b[0;34m\u001b[0m\u001b[0m\n\u001b[1;32m     10\u001b[0m         \u001b[0mfile\u001b[0m\u001b[0;34m=\u001b[0m\u001b[0mr\u001b[0m\u001b[0;34m.\u001b[0m\u001b[0mTFile\u001b[0m\u001b[0;34m.\u001b[0m\u001b[0mOpen\u001b[0m\u001b[0;34m(\u001b[0m\u001b[0msam\u001b[0m\u001b[0;34m+\u001b[0m\u001b[0msys\u001b[0m\u001b[0;34m+\u001b[0m\u001b[0;34m\".root\"\u001b[0m\u001b[0;34m)\u001b[0m\u001b[0;34m\u001b[0m\u001b[0;34m\u001b[0m\u001b[0m\n\u001b[0;32m---> 11\u001b[0;31m         \u001b[0mprong1\u001b[0m\u001b[0;34m=\u001b[0m\u001b[0mfile\u001b[0m\u001b[0;34m.\u001b[0m\u001b[0mGet\u001b[0m\u001b[0;34m(\u001b[0m\u001b[0;34m\"tau_matched_1p_topo_dphi_btag_iso_rnn_ptmu_omega_mreco_tpt\"\u001b[0m\u001b[0;34m)\u001b[0m\u001b[0;34m\u001b[0m\u001b[0;34m\u001b[0m\u001b[0m\n\u001b[0m\u001b[1;32m     12\u001b[0m         \u001b[0mprong3\u001b[0m\u001b[0;34m=\u001b[0m\u001b[0mfile\u001b[0m\u001b[0;34m.\u001b[0m\u001b[0mGet\u001b[0m\u001b[0;34m(\u001b[0m\u001b[0;34m\"tau_matched_3p_topo_dphi_btag_iso_rnn_ptmu_omega_mreco_tpt\"\u001b[0m\u001b[0;34m)\u001b[0m\u001b[0;34m\u001b[0m\u001b[0;34m\u001b[0m\u001b[0m\n\u001b[1;32m     13\u001b[0m         \u001b[0mdict\u001b[0m\u001b[0;34m[\u001b[0m\u001b[0msam\u001b[0m\u001b[0;34m+\u001b[0m\u001b[0msys\u001b[0m\u001b[0;34m]\u001b[0m\u001b[0;34m=\u001b[0m\u001b[0;34m[\u001b[0m\u001b[0mprong1\u001b[0m\u001b[0;34m.\u001b[0m\u001b[0mGetBinContent\u001b[0m\u001b[0;34m(\u001b[0m\u001b[0;36m1\u001b[0m\u001b[0;34m)\u001b[0m\u001b[0;34m,\u001b[0m\u001b[0mprong1\u001b[0m\u001b[0;34m.\u001b[0m\u001b[0mGetBinContent\u001b[0m\u001b[0;34m(\u001b[0m\u001b[0;36m2\u001b[0m\u001b[0;34m)\u001b[0m\u001b[0;34m,\u001b[0m\u001b[0mprong3\u001b[0m\u001b[0;34m.\u001b[0m\u001b[0mGetBinContent\u001b[0m\u001b[0;34m(\u001b[0m\u001b[0;36m1\u001b[0m\u001b[0;34m)\u001b[0m\u001b[0;34m,\u001b[0m\u001b[0mprong3\u001b[0m\u001b[0;34m.\u001b[0m\u001b[0mGetBinContent\u001b[0m\u001b[0;34m(\u001b[0m\u001b[0;36m2\u001b[0m\u001b[0;34m)\u001b[0m\u001b[0;34m]\u001b[0m\u001b[0;34m\u001b[0m\u001b[0;34m\u001b[0m\u001b[0m\n",
      "\u001b[0;31mReferenceError\u001b[0m: attempt to access a null-pointer"
     ]
    }
   ],
   "source": [
    "\n",
    "import ROOT as r\n",
    "dict={}\n",
    "\n",
    "# FILLING DICTIONARY WITH SYS-RELATED TREES \n",
    "\n",
    "### the dictionary will have the following structure \"systematic_name\":[fake1p,truth1p,fake3p,truth3p]\n",
    "\n",
    "for sam in samples:\n",
    "    for sys in trees[1:]:\n",
    "        file=r.TFile.Open(sam+sys+\".root\")\n",
    "        prong1=file.Get(\"tau_matched_1p_topo_dphi_btag_iso_rnn_ptmu_omega_mreco_tpt\")\n",
    "        prong3=file.Get(\"tau_matched_3p_topo_dphi_btag_iso_rnn_ptmu_omega_mreco_tpt\")\n",
    "        dict[sam+sys]=[prong1.GetBinContent(1),prong1.GetBinContent(2),prong3.GetBinContent(1),prong3.GetBinContent(2)]\n",
    "        file.Close()\n",
    "\n"
   ]
  },
  {
   "cell_type": "code",
   "execution_count": 8,
   "metadata": {},
   "outputs": [],
   "source": [
    "#NOW ADDING THE WEIGHT-BASED SYSTEMATICS        \n",
    "histograms=[]\n",
    "for sys in trees[:1]:\n",
    "    file=r.TFile.Open(\"Signal_Sherpa\"+sys+\".root\")\n",
    "    histos=file.GetListOfKeys()\n",
    "    for i in histos:\n",
    "        name=i.GetName()\n",
    "        if (\"cuts\" in name) and (\"tpt\" in name) and (\"1p\" in name):\n",
    "            histograms.append(i.GetName()[len(\"tau_matched_1p_cuts_tpt_\"):])\n",
    "\n",
    "for sam in samples:\n",
    "    for sys in trees[:1]:\n",
    "        file=r.TFile.Open(sam+sys+\".root\")\n",
    "        for h in histograms:\n",
    "            prong1=file.Get(\"tau_matched_1p_cuts_tpt_\"+h)\n",
    "            prong3=file.Get(\"tau_matched_3p_cuts_tpt_\"+h)\n",
    "            dict[sam+sys+h]=[prong1.GetBinContent(1),prong1.GetBinContent(2),prong3.GetBinContent(1),prong3.GetBinContent(2)]\n",
    "        prong1=file.Get(\"tau_matched_1p_topo_dphi_btag_iso_rnn_ptmu_omega_mreco_tpt\")\n",
    "        prong3=file.Get(\"tau_matched_3p_topo_dphi_btag_iso_rnn_ptmu_omega_mreco_tpt\")\n",
    "        dict[sam+sys+\"nominal\"]=[prong1.GetBinContent(1),prong1.GetBinContent(2),prong3.GetBinContent(1),prong3.GetBinContent(2)]\n",
    "        file.Close()"
   ]
  },
  {
   "cell_type": "code",
   "execution_count": 9,
   "metadata": {},
   "outputs": [],
   "source": [
    "# REARRANGING THE DICTIONARY AS FAKES AND TRUTH EVENTS\n",
    "for i in dict:\n",
    "    if \"Signal\" not in i:\n",
    "        dict[i]=[dict[i][0]+dict[i][1],0,dict[i][2]+dict[i][3],0]"
   ]
  },
  {
   "cell_type": "code",
   "execution_count": null,
   "metadata": {},
   "outputs": [],
   "source": []
  },
  {
   "cell_type": "code",
   "execution_count": 10,
   "metadata": {},
   "outputs": [],
   "source": [
    "#The structure of the dictionary is... \"name_of_sys\":[SherpaFake,SherpaTruth,PoPyFake,PoPyTruth,Zmumu,VV]\n",
    "final_dict_1p={}\n",
    "for i in histograms+trees[1:]:\n",
    "    final_dict_1p[i]=[0,0,0,0,0,0]\n",
    "    for j in dict:\n",
    "        if (i in j) and (\"Sherpa\" in j):\n",
    "            final_dict_1p[i][0]=dict[j][0]\n",
    "            final_dict_1p[i][1]=dict[j][1]\n",
    "        if (i in j) and (\"PoPy\" in j):\n",
    "            final_dict_1p[i][2]=dict[j][0]\n",
    "            final_dict_1p[i][3]=dict[j][1]\n",
    "        if (i in j) and (\"Zmumu\" in j):\n",
    "            final_dict_1p[i][4]=dict[j][0]\n",
    "        if (i in j) and (\"VV\" in j):\n",
    "            final_dict_1p[i][5]=dict[j][0]\n",
    "            \n",
    "final_dict_3p={}\n",
    "for i in histograms+trees[1:]:\n",
    "    final_dict_3p[i]=[0,0,0,0,0,0]\n",
    "    for j in dict:\n",
    "        if (i in j) and (\"Sherpa\" in j):\n",
    "            final_dict_3p[i][0]=dict[j][2]\n",
    "            final_dict_3p[i][1]=dict[j][3]\n",
    "        if (i in j) and (\"PoPy\" in j):\n",
    "            final_dict_3p[i][2]=dict[j][2]\n",
    "            final_dict_3p[i][3]=dict[j][3]\n",
    "        if (i in j) and (\"Zmumu\" in j):\n",
    "            final_dict_3p[i][4]=dict[j][2]\n",
    "        if (i in j) and (\"VV\" in j):\n",
    "            final_dict_3p[i][5]=dict[j][2]\n",
    "\n",
    "#TAKING DOWN AND UP SYSTEMATICS TO THE BOTTOM AND THE TOP OF THE DICTIONARY RESPECTIVELY\n",
    "down_1p={}\n",
    "down_3p={}\n",
    "\n",
    "a1p_keys=[i for i in final_dict_1p]\n",
    "a3p_keys=[i for i in final_dict_3p]\n",
    "\n",
    "for i in a1p_keys:\n",
    "    if \"1down\" in i:\n",
    "        down_1p.update({i:final_dict_1p[i]})\n",
    "        final_dict_1p.pop(i)\n",
    "for i in a3p_keys:\n",
    "    if \"1down\" in i:\n",
    "        down_3p.update({i:final_dict_3p[i]})\n",
    "        final_dict_3p.pop(i)\n",
    "final_dict_1p.update(down_1p)\n",
    "final_dict_3p.update(down_3p)"
   ]
  },
  {
   "cell_type": "code",
   "execution_count": 11,
   "metadata": {},
   "outputs": [],
   "source": [
    "# EXPORTING THE RESULTS TO A CSV FILE\n",
    "import pandas as pd\n",
    "df1=pd.DataFrame.from_dict(final_dict_1p, orient='index',\n",
    "                       columns=[\"SherpaFake\",\"SherpaTruth\",\"PoPyFake\",\"PoPyTruth\",\"Zmumu\",\"VV\"])\n",
    "df3=pd.DataFrame.from_dict(final_dict_3p, orient='index',\n",
    "\n",
    "                       columns=[\"SherpaFake\",\"SherpaTruth\",\"PoPyFake\",\"PoPyTruth\",\"Zmumu\",\"VV\"])\n",
    "\n",
    "df1.to_csv('Weight-Based-Uncertainties-1prong.csv')\n",
    "df3.to_csv('Weight-Based-Uncertainties-3prong.csv')\n"
   ]
  },
  {
   "cell_type": "code",
   "execution_count": null,
   "metadata": {},
   "outputs": [],
   "source": []
  },
  {
   "cell_type": "code",
   "execution_count": 17,
   "metadata": {},
   "outputs": [],
   "source": []
  },
  {
   "cell_type": "code",
   "execution_count": null,
   "metadata": {},
   "outputs": [],
   "source": []
  }
 ],
 "metadata": {
  "kernelspec": {
   "display_name": "Python 3",
   "language": "python",
   "name": "python3"
  },
  "language_info": {
   "codemirror_mode": {
    "name": "ipython",
    "version": 3
   },
   "file_extension": ".py",
   "mimetype": "text/x-python",
   "name": "python",
   "nbconvert_exporter": "python",
   "pygments_lexer": "ipython3",
   "version": "3.8.10"
  }
 },
 "nbformat": 4,
 "nbformat_minor": 4
}
